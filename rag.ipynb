{
 "cells": [
  {
   "cell_type": "code",
   "execution_count": 5,
   "metadata": {},
   "outputs": [],
   "source": [
    "import pandas as pd\n",
    "import os\n",
    "import requests"
   ]
  },
  {
   "cell_type": "code",
   "execution_count": 6,
   "metadata": {},
   "outputs": [
    {
     "name": "stdout",
     "output_type": "stream",
     "text": [
      "File doesn't exist, downloading...\n",
      "The file has been downloaded and saved as college-information.pdf\n"
     ]
    }
   ],
   "source": [
    "pdf_path = \"/home/pranjal/Downloads/RAG_from_scratch/Human-Nutrition-2020-Edition-1598491699.pdf\"\n",
    "\n",
    "# Download the PDF if it doesn't already exist\n",
    "if not os.path.exists(pdf_path):\n",
    "  print(\"File doesn't exist, downloading now\")\n",
    "\n",
    "  url = \"https://github.com/pranzalkhadka/RAG_from_scratch/raw/main/college_data.pdf\"\n",
    "  #url = \"https://github.com/mrdbourke/simple-local-rag/blob/raw/main/human-nutrition-text.pdf\"\n",
    "  filename = pdf_path\n",
    "\n",
    "  # Send a GET request to the URL\n",
    "  response = requests.get(url)\n",
    "\n",
    "  # Check if the request was successful\n",
    "  if response.status_code == 200:\n",
    "      # Open a file in binary write mode and save the content to it\n",
    "      with open(filename, \"wb\") as file:\n",
    "          file.write(response.content)\n",
    "      print(f\"The file has been downloaded and saved as {filename}\")\n",
    "  else:\n",
    "      print(f\"Failed to download the file. Status code: {response.status_code}\")\n",
    "else:\n",
    "  print(f\"File {pdf_path} exists.\")"
   ]
  },
  {
   "cell_type": "code",
   "execution_count": 9,
   "metadata": {},
   "outputs": [],
   "source": [
    "import fitz\n",
    "from tqdm.auto import tqdm"
   ]
  },
  {
   "cell_type": "code",
   "execution_count": 10,
   "metadata": {},
   "outputs": [],
   "source": [
    "def text_cleaner(text):\n",
    "    # Replace newline characters with spaces and strip leading/trailing whitespaces\n",
    "    cleaned_text = text.replace(\"\\n\", \" \").strip()\n",
    "    return cleaned_text"
   ]
  },
  {
   "cell_type": "code",
   "execution_count": 15,
   "metadata": {},
   "outputs": [],
   "source": [
    "def read_pdf(pdf_path):\n",
    "    # Open the PDF using PyMuPDF\n",
    "    doc = fitz.open(pdf_path)\n",
    "    pages_and_text = []\n",
    "    for page_number, page in tqdm(enumerate(doc)):\n",
    "        # Get the text of the page\n",
    "        text = page.get_text()\n",
    "        # Clean the text\n",
    "        text = text_cleaner(text)\n",
    "        # Append the text to the list with other information\n",
    "        pages_and_text.append({\n",
    "            # page number to find where the infrmation came from\n",
    "            \"page_number\": page_number-41,\n",
    "            # length of the text\n",
    "            \"page_char_count\": len(text),\n",
    "            # number of words in the text\n",
    "            \"page_word_count\": len(text.split()),\n",
    "            # number of sentences in the text\n",
    "            \"page_sentence_count_raw\": len(text.split(\". \")),\n",
    "            # number of tokens in the text\n",
    "            \"page_token_count\": len(text)/4,\n",
    "            \"text\": text\n",
    "        })\n",
    "\n",
    "    return pages_and_text"
   ]
  },
  {
   "cell_type": "code",
   "execution_count": 16,
   "metadata": {},
   "outputs": [],
   "source": [
    "pdf_path = \"/home/pranjal/Downloads/RAG_from_scratch/Human-Nutrition-2020-Edition-1598491699.pdf\""
   ]
  },
  {
   "cell_type": "code",
   "execution_count": 17,
   "metadata": {},
   "outputs": [
    {
     "name": "stderr",
     "output_type": "stream",
     "text": [
      "1208it [00:00, 1373.93it/s]\n"
     ]
    },
    {
     "data": {
      "text/plain": [
       "[{'page_number': -41,\n",
       "  'page_char_count': 29,\n",
       "  'page_word_count': 4,\n",
       "  'page_sentence_count_raw': 1,\n",
       "  'page_token_count': 7.25,\n",
       "  'text': 'Human Nutrition: 2020 Edition'},\n",
       " {'page_number': -40,\n",
       "  'page_char_count': 0,\n",
       "  'page_word_count': 0,\n",
       "  'page_sentence_count_raw': 1,\n",
       "  'page_token_count': 0.0,\n",
       "  'text': ''}]"
      ]
     },
     "execution_count": 17,
     "metadata": {},
     "output_type": "execute_result"
    }
   ],
   "source": [
    "pages_and_text = read_pdf(pdf_path)\n",
    "pages_and_text[:2]"
   ]
  },
  {
   "cell_type": "code",
   "execution_count": 18,
   "metadata": {},
   "outputs": [
    {
     "data": {
      "text/plain": [
       "[{'page_number': 491,\n",
       "  'page_char_count': 764,\n",
       "  'page_word_count': 104,\n",
       "  'page_sentence_count_raw': 5,\n",
       "  'page_token_count': 191.0,\n",
       "  'text': 'Learning Activities  Technology Note: The second edition of the Human  Nutrition Open Educational Resource (OER) textbook  features interactive learning activities.  These activities are  available in the web-based textbook and not available in the  downloadable versions (EPUB, Digital PDF, Print_PDF, or  Open Document).  Learning activities may be used across various mobile  devices, however, for the best user experience it is strongly  recommended that users complete these activities using a  desktop or laptop computer and in Google Chrome.    An interactive or media element has been  excluded from this version of the text. You can  view it online here:  http://pressbooks.oer.hawaii.edu/ humannutrition2/?p=310    Factors Affecting Energy Intake  |  491'},\n",
       " {'page_number': 111,\n",
       "  'page_char_count': 683,\n",
       "  'page_word_count': 126,\n",
       "  'page_sentence_count_raw': 6,\n",
       "  'page_token_count': 170.75,\n",
       "  'text': 'example, if you exercise or work outside, and sweat a great deal,  your urine will turn darker and produce a slight odor, even if you  drink plenty of water. Athletes are often advised to consume water  until their urine is clear. This is good advice; however, it takes  time for the kidneys to process body fluids and store it in the  bladder. Another way of looking at this is that the quality of the  urine produced is an average over the time it takes to make that  urine. Producing clear urine may take only a few minutes if you are  drinking a lot of water or several hours if you are working outside  and not drinking much.  Figure 2.20 Urine Color  The Urinary System  |  111'},\n",
       " {'page_number': 669,\n",
       "  'page_char_count': 944,\n",
       "  'page_word_count': 131,\n",
       "  'page_sentence_count_raw': 10,\n",
       "  'page_token_count': 236.0,\n",
       "  'text': 'Dietary supplements containing copper typically range from a few  micrograms to 15 mg. 5  Learning Activities  Technology Note: The second edition of the Human  Nutrition Open Educational Resource (OER) textbook  features interactive learning activities.  These activities are  available in the web-based textbook and not available in the  downloadable versions (EPUB, Digital PDF, Print_PDF, or  Open Document).  Learning activities may be used across various mobile  devices, however, for the best user experience it is strongly  recommended that users complete these activities using a  desktop or laptop computer and in Google Chrome.    5. Institute of Medicine (US) Panel on Micronutrients.  (2001). Dietary reference intakes for vitamin A, vitamin K,  arsenic, boron, chromium, copper, iodine, iron,  manganese, molybdenum, nickel, silicon, vanadium, and  zinc. Washington (DC): National Academies Press (US); 7,  Copper.  Copper  |  669'}]"
      ]
     },
     "execution_count": 18,
     "metadata": {},
     "output_type": "execute_result"
    }
   ],
   "source": [
    "import random\n",
    "random.sample(pages_and_text, k=3)"
   ]
  },
  {
   "cell_type": "code",
   "execution_count": 19,
   "metadata": {},
   "outputs": [],
   "source": [
    "df = pd.DataFrame(pages_and_text)"
   ]
  },
  {
   "cell_type": "code",
   "execution_count": 20,
   "metadata": {},
   "outputs": [
    {
     "data": {
      "text/html": [
       "<div>\n",
       "<style scoped>\n",
       "    .dataframe tbody tr th:only-of-type {\n",
       "        vertical-align: middle;\n",
       "    }\n",
       "\n",
       "    .dataframe tbody tr th {\n",
       "        vertical-align: top;\n",
       "    }\n",
       "\n",
       "    .dataframe thead th {\n",
       "        text-align: right;\n",
       "    }\n",
       "</style>\n",
       "<table border=\"1\" class=\"dataframe\">\n",
       "  <thead>\n",
       "    <tr style=\"text-align: right;\">\n",
       "      <th></th>\n",
       "      <th>page_number</th>\n",
       "      <th>page_char_count</th>\n",
       "      <th>page_word_count</th>\n",
       "      <th>page_sentence_count_raw</th>\n",
       "      <th>page_token_count</th>\n",
       "      <th>text</th>\n",
       "    </tr>\n",
       "  </thead>\n",
       "  <tbody>\n",
       "    <tr>\n",
       "      <th>0</th>\n",
       "      <td>-41</td>\n",
       "      <td>29</td>\n",
       "      <td>4</td>\n",
       "      <td>1</td>\n",
       "      <td>7.25</td>\n",
       "      <td>Human Nutrition: 2020 Edition</td>\n",
       "    </tr>\n",
       "    <tr>\n",
       "      <th>1</th>\n",
       "      <td>-40</td>\n",
       "      <td>0</td>\n",
       "      <td>0</td>\n",
       "      <td>1</td>\n",
       "      <td>0.00</td>\n",
       "      <td></td>\n",
       "    </tr>\n",
       "    <tr>\n",
       "      <th>2</th>\n",
       "      <td>-39</td>\n",
       "      <td>320</td>\n",
       "      <td>42</td>\n",
       "      <td>1</td>\n",
       "      <td>80.00</td>\n",
       "      <td>Human Nutrition: 2020  Edition  UNIVERSITY OF ...</td>\n",
       "    </tr>\n",
       "    <tr>\n",
       "      <th>3</th>\n",
       "      <td>-38</td>\n",
       "      <td>212</td>\n",
       "      <td>30</td>\n",
       "      <td>1</td>\n",
       "      <td>53.00</td>\n",
       "      <td>Human Nutrition: 2020 Edition by University of...</td>\n",
       "    </tr>\n",
       "    <tr>\n",
       "      <th>4</th>\n",
       "      <td>-37</td>\n",
       "      <td>797</td>\n",
       "      <td>116</td>\n",
       "      <td>3</td>\n",
       "      <td>199.25</td>\n",
       "      <td>Contents  Preface  University of Hawai‘i at Mā...</td>\n",
       "    </tr>\n",
       "  </tbody>\n",
       "</table>\n",
       "</div>"
      ],
      "text/plain": [
       "   page_number  page_char_count  page_word_count  page_sentence_count_raw  \\\n",
       "0          -41               29                4                        1   \n",
       "1          -40                0                0                        1   \n",
       "2          -39              320               42                        1   \n",
       "3          -38              212               30                        1   \n",
       "4          -37              797              116                        3   \n",
       "\n",
       "   page_token_count                                               text  \n",
       "0              7.25                      Human Nutrition: 2020 Edition  \n",
       "1              0.00                                                     \n",
       "2             80.00  Human Nutrition: 2020  Edition  UNIVERSITY OF ...  \n",
       "3             53.00  Human Nutrition: 2020 Edition by University of...  \n",
       "4            199.25  Contents  Preface  University of Hawai‘i at Mā...  "
      ]
     },
     "execution_count": 20,
     "metadata": {},
     "output_type": "execute_result"
    }
   ],
   "source": [
    "df.head()"
   ]
  },
  {
   "cell_type": "code",
   "execution_count": 21,
   "metadata": {},
   "outputs": [
    {
     "data": {
      "text/html": [
       "<div>\n",
       "<style scoped>\n",
       "    .dataframe tbody tr th:only-of-type {\n",
       "        vertical-align: middle;\n",
       "    }\n",
       "\n",
       "    .dataframe tbody tr th {\n",
       "        vertical-align: top;\n",
       "    }\n",
       "\n",
       "    .dataframe thead th {\n",
       "        text-align: right;\n",
       "    }\n",
       "</style>\n",
       "<table border=\"1\" class=\"dataframe\">\n",
       "  <thead>\n",
       "    <tr style=\"text-align: right;\">\n",
       "      <th></th>\n",
       "      <th>page_number</th>\n",
       "      <th>page_char_count</th>\n",
       "      <th>page_word_count</th>\n",
       "      <th>page_sentence_count_raw</th>\n",
       "      <th>page_token_count</th>\n",
       "    </tr>\n",
       "  </thead>\n",
       "  <tbody>\n",
       "    <tr>\n",
       "      <th>count</th>\n",
       "      <td>1208.00000</td>\n",
       "      <td>1208.000000</td>\n",
       "      <td>1208.000000</td>\n",
       "      <td>1208.000000</td>\n",
       "      <td>1208.000000</td>\n",
       "    </tr>\n",
       "    <tr>\n",
       "      <th>mean</th>\n",
       "      <td>562.50000</td>\n",
       "      <td>1148.004139</td>\n",
       "      <td>171.966060</td>\n",
       "      <td>10.519868</td>\n",
       "      <td>287.001035</td>\n",
       "    </tr>\n",
       "    <tr>\n",
       "      <th>std</th>\n",
       "      <td>348.86387</td>\n",
       "      <td>560.382275</td>\n",
       "      <td>86.491465</td>\n",
       "      <td>6.548495</td>\n",
       "      <td>140.095569</td>\n",
       "    </tr>\n",
       "    <tr>\n",
       "      <th>min</th>\n",
       "      <td>-41.00000</td>\n",
       "      <td>0.000000</td>\n",
       "      <td>0.000000</td>\n",
       "      <td>1.000000</td>\n",
       "      <td>0.000000</td>\n",
       "    </tr>\n",
       "    <tr>\n",
       "      <th>25%</th>\n",
       "      <td>260.75000</td>\n",
       "      <td>762.000000</td>\n",
       "      <td>109.000000</td>\n",
       "      <td>5.000000</td>\n",
       "      <td>190.500000</td>\n",
       "    </tr>\n",
       "    <tr>\n",
       "      <th>50%</th>\n",
       "      <td>562.50000</td>\n",
       "      <td>1231.500000</td>\n",
       "      <td>183.000000</td>\n",
       "      <td>10.000000</td>\n",
       "      <td>307.875000</td>\n",
       "    </tr>\n",
       "    <tr>\n",
       "      <th>75%</th>\n",
       "      <td>864.25000</td>\n",
       "      <td>1603.500000</td>\n",
       "      <td>239.000000</td>\n",
       "      <td>15.000000</td>\n",
       "      <td>400.875000</td>\n",
       "    </tr>\n",
       "    <tr>\n",
       "      <th>max</th>\n",
       "      <td>1166.00000</td>\n",
       "      <td>2308.000000</td>\n",
       "      <td>393.000000</td>\n",
       "      <td>39.000000</td>\n",
       "      <td>577.000000</td>\n",
       "    </tr>\n",
       "  </tbody>\n",
       "</table>\n",
       "</div>"
      ],
      "text/plain": [
       "       page_number  page_char_count  page_word_count  page_sentence_count_raw  \\\n",
       "count   1208.00000      1208.000000      1208.000000              1208.000000   \n",
       "mean     562.50000      1148.004139       171.966060                10.519868   \n",
       "std      348.86387       560.382275        86.491465                 6.548495   \n",
       "min      -41.00000         0.000000         0.000000                 1.000000   \n",
       "25%      260.75000       762.000000       109.000000                 5.000000   \n",
       "50%      562.50000      1231.500000       183.000000                10.000000   \n",
       "75%      864.25000      1603.500000       239.000000                15.000000   \n",
       "max     1166.00000      2308.000000       393.000000                39.000000   \n",
       "\n",
       "       page_token_count  \n",
       "count       1208.000000  \n",
       "mean         287.001035  \n",
       "std          140.095569  \n",
       "min            0.000000  \n",
       "25%          190.500000  \n",
       "50%          307.875000  \n",
       "75%          400.875000  \n",
       "max          577.000000  "
      ]
     },
     "execution_count": 21,
     "metadata": {},
     "output_type": "execute_result"
    }
   ],
   "source": [
    "df.describe()"
   ]
  },
  {
   "cell_type": "code",
   "execution_count": 22,
   "metadata": {},
   "outputs": [],
   "source": [
    "from spacy.lang.en import English"
   ]
  },
  {
   "cell_type": "code",
   "execution_count": 23,
   "metadata": {},
   "outputs": [
    {
     "name": "stdout",
     "output_type": "stream",
     "text": [
      "[This is a sentence., This is another sentence., This is a third sentence.]\n"
     ]
    }
   ],
   "source": [
    "nlp = English()\n",
    "\n",
    "nlp.add_pipe(\"sentencizer\")\n",
    "\n",
    "doc = nlp(\"This is a sentence. This is another sentence. This is a third sentence.\")\n",
    "\n",
    "assert len(list(doc.sents)) == 3\n",
    "\n",
    "print(list(doc.sents))"
   ]
  },
  {
   "cell_type": "code",
   "execution_count": 24,
   "metadata": {},
   "outputs": [
    {
     "name": "stderr",
     "output_type": "stream",
     "text": [
      "100%|██████████| 1208/1208 [00:01<00:00, 815.23it/s]\n"
     ]
    }
   ],
   "source": [
    "for item in tqdm(pages_and_text):\n",
    "\n",
    "    # Parse the text with spaCy\n",
    "    item[\"sentences\"] = list(nlp(item[\"text\"]).sents)\n",
    "\n",
    "    # Convert all sentences to strings because default type is a spacy data type\n",
    "    item[\"sentences\"] = [str(sentence) for sentence in item[\"sentences\"]]\n",
    "\n",
    "    # Count the number of sentences\n",
    "    item[\"page_sentence_count_spacy\"] = len(item[\"sentences\"])"
   ]
  },
  {
   "cell_type": "code",
   "execution_count": 25,
   "metadata": {},
   "outputs": [
    {
     "data": {
      "text/plain": [
       "[{'page_number': 1103,\n",
       "  'page_char_count': 1480,\n",
       "  'page_word_count': 239,\n",
       "  'page_sentence_count_raw': 16,\n",
       "  'page_token_count': 370.0,\n",
       "  'text': 'beneficial, as well as consuming more soy products. It is also  important to maintain a healthy weight and avoid smoking or  chewing tobacco.  Hypertension  Chronic high blood pressure, also known as hypertension, is a  significant health hazard affecting one out of three adults in the  United States.3 This chronic condition is a major cause of heart  attacks and strokes, yet it has no symptoms until blood pressure  reaches very high levels, which is why it is known as “the silent  killer.” The only way to find out if you have high blood pressure is to  get an accurate reading of your resting blood pressure rate, which  is best done by a medical professional and should be monitored  regularly.  High blood pressure is such an important factor in cardiovascular  disease, that keeping it within a healthy range is vitally important.  Blood pressure readings consist of two numbers. The top number  measures systolic pressure (when the heart contracts) and the  bottom number measures diastolic pressure (when the heart is at  rest). The key blood pressure numbers to keep in mind are:  • Ideal. 120 over 80 or below  • Prehypertension. Higher than 120 over 80 and lower than 139  over 89  • Hypertension. Greater than 139 over 89  Table 18.3 The Risk Factors for Hypertension  3. High Blood Pressure Facts. Center for Disease Control  and Prevention. https://www.cdc.gov/bloodpressure/ facts.htm. Updated April 5, 2018. Accessed April 15, 2018.  Threats to Health  |  1103',\n",
       "  'sentences': ['beneficial, as well as consuming more soy products.',\n",
       "   'It is also  important to maintain a healthy weight and avoid smoking or  chewing tobacco.',\n",
       "   ' Hypertension  Chronic high blood pressure, also known as hypertension, is a  significant health hazard affecting one out of three adults in the  United States.3 This chronic condition is a major cause of heart  attacks and strokes, yet it has no symptoms until blood pressure  reaches very high levels, which is why it is known as “the silent  killer.”',\n",
       "   'The only way to find out if you have high blood pressure is to  get an accurate reading of your resting blood pressure rate, which  is best done by a medical professional and should be monitored  regularly.',\n",
       "   ' High blood pressure is such an important factor in cardiovascular  disease, that keeping it within a healthy range is vitally important.',\n",
       "   ' Blood pressure readings consist of two numbers.',\n",
       "   'The top number  measures systolic pressure (when the heart contracts) and the  bottom number measures diastolic pressure (when the heart is at  rest).',\n",
       "   'The key blood pressure numbers to keep in mind are:  • Ideal.',\n",
       "   '120 over 80 or below  • Prehypertension.',\n",
       "   'Higher than 120 over 80 and lower than 139  over 89  • Hypertension.',\n",
       "   'Greater than 139 over 89  Table 18.3 The Risk Factors for Hypertension  3.',\n",
       "   'High Blood Pressure Facts.',\n",
       "   'Center for Disease Control  and Prevention.',\n",
       "   'https://www.cdc.gov/bloodpressure/ facts.htm.',\n",
       "   'Updated April 5, 2018.',\n",
       "   'Accessed April 15, 2018.',\n",
       "   ' Threats to Health  |  1103'],\n",
       "  'page_sentence_count_spacy': 17}]"
      ]
     },
     "execution_count": 25,
     "metadata": {},
     "output_type": "execute_result"
    }
   ],
   "source": [
    "random.sample(pages_and_text, k=1)"
   ]
  },
  {
   "cell_type": "code",
   "execution_count": 26,
   "metadata": {},
   "outputs": [],
   "source": [
    "df = pd.DataFrame(pages_and_text)"
   ]
  },
  {
   "cell_type": "code",
   "execution_count": 27,
   "metadata": {},
   "outputs": [
    {
     "data": {
      "text/html": [
       "<div>\n",
       "<style scoped>\n",
       "    .dataframe tbody tr th:only-of-type {\n",
       "        vertical-align: middle;\n",
       "    }\n",
       "\n",
       "    .dataframe tbody tr th {\n",
       "        vertical-align: top;\n",
       "    }\n",
       "\n",
       "    .dataframe thead th {\n",
       "        text-align: right;\n",
       "    }\n",
       "</style>\n",
       "<table border=\"1\" class=\"dataframe\">\n",
       "  <thead>\n",
       "    <tr style=\"text-align: right;\">\n",
       "      <th></th>\n",
       "      <th>page_number</th>\n",
       "      <th>page_char_count</th>\n",
       "      <th>page_word_count</th>\n",
       "      <th>page_sentence_count_raw</th>\n",
       "      <th>page_token_count</th>\n",
       "      <th>page_sentence_count_spacy</th>\n",
       "    </tr>\n",
       "  </thead>\n",
       "  <tbody>\n",
       "    <tr>\n",
       "      <th>count</th>\n",
       "      <td>1208.00000</td>\n",
       "      <td>1208.000000</td>\n",
       "      <td>1208.000000</td>\n",
       "      <td>1208.000000</td>\n",
       "      <td>1208.000000</td>\n",
       "      <td>1208.000000</td>\n",
       "    </tr>\n",
       "    <tr>\n",
       "      <th>mean</th>\n",
       "      <td>562.50000</td>\n",
       "      <td>1148.004139</td>\n",
       "      <td>171.966060</td>\n",
       "      <td>10.519868</td>\n",
       "      <td>287.001035</td>\n",
       "      <td>10.319536</td>\n",
       "    </tr>\n",
       "    <tr>\n",
       "      <th>std</th>\n",
       "      <td>348.86387</td>\n",
       "      <td>560.382275</td>\n",
       "      <td>86.491465</td>\n",
       "      <td>6.548495</td>\n",
       "      <td>140.095569</td>\n",
       "      <td>6.300843</td>\n",
       "    </tr>\n",
       "    <tr>\n",
       "      <th>min</th>\n",
       "      <td>-41.00000</td>\n",
       "      <td>0.000000</td>\n",
       "      <td>0.000000</td>\n",
       "      <td>1.000000</td>\n",
       "      <td>0.000000</td>\n",
       "      <td>0.000000</td>\n",
       "    </tr>\n",
       "    <tr>\n",
       "      <th>25%</th>\n",
       "      <td>260.75000</td>\n",
       "      <td>762.000000</td>\n",
       "      <td>109.000000</td>\n",
       "      <td>5.000000</td>\n",
       "      <td>190.500000</td>\n",
       "      <td>5.000000</td>\n",
       "    </tr>\n",
       "    <tr>\n",
       "      <th>50%</th>\n",
       "      <td>562.50000</td>\n",
       "      <td>1231.500000</td>\n",
       "      <td>183.000000</td>\n",
       "      <td>10.000000</td>\n",
       "      <td>307.875000</td>\n",
       "      <td>10.000000</td>\n",
       "    </tr>\n",
       "    <tr>\n",
       "      <th>75%</th>\n",
       "      <td>864.25000</td>\n",
       "      <td>1603.500000</td>\n",
       "      <td>239.000000</td>\n",
       "      <td>15.000000</td>\n",
       "      <td>400.875000</td>\n",
       "      <td>15.000000</td>\n",
       "    </tr>\n",
       "    <tr>\n",
       "      <th>max</th>\n",
       "      <td>1166.00000</td>\n",
       "      <td>2308.000000</td>\n",
       "      <td>393.000000</td>\n",
       "      <td>39.000000</td>\n",
       "      <td>577.000000</td>\n",
       "      <td>28.000000</td>\n",
       "    </tr>\n",
       "  </tbody>\n",
       "</table>\n",
       "</div>"
      ],
      "text/plain": [
       "       page_number  page_char_count  page_word_count  page_sentence_count_raw  \\\n",
       "count   1208.00000      1208.000000      1208.000000              1208.000000   \n",
       "mean     562.50000      1148.004139       171.966060                10.519868   \n",
       "std      348.86387       560.382275        86.491465                 6.548495   \n",
       "min      -41.00000         0.000000         0.000000                 1.000000   \n",
       "25%      260.75000       762.000000       109.000000                 5.000000   \n",
       "50%      562.50000      1231.500000       183.000000                10.000000   \n",
       "75%      864.25000      1603.500000       239.000000                15.000000   \n",
       "max     1166.00000      2308.000000       393.000000                39.000000   \n",
       "\n",
       "       page_token_count  page_sentence_count_spacy  \n",
       "count       1208.000000                1208.000000  \n",
       "mean         287.001035                  10.319536  \n",
       "std          140.095569                   6.300843  \n",
       "min            0.000000                   0.000000  \n",
       "25%          190.500000                   5.000000  \n",
       "50%          307.875000                  10.000000  \n",
       "75%          400.875000                  15.000000  \n",
       "max          577.000000                  28.000000  "
      ]
     },
     "execution_count": 27,
     "metadata": {},
     "output_type": "execute_result"
    }
   ],
   "source": [
    "df.describe()"
   ]
  },
  {
   "cell_type": "code",
   "execution_count": 29,
   "metadata": {},
   "outputs": [],
   "source": [
    "# break down our list of sentences into smaller chunks\n",
    "# This is because mbedding models have some fixed capacity for tokens and exceeding that will cause information loss\n",
    "num_sentence_chunk_size = 10\n",
    "\n",
    "def split_list(lst, slice_size = num_sentence_chunk_size):\n",
    "    # Split the list into chunks of size of 10\n",
    "    return [lst[i:i + slice_size] for i in range(0, len(lst), slice_size)]"
   ]
  },
  {
   "cell_type": "code",
   "execution_count": 31,
   "metadata": {},
   "outputs": [
    {
     "name": "stderr",
     "output_type": "stream",
     "text": [
      "100%|██████████| 1208/1208 [00:00<00:00, 384308.19it/s]\n"
     ]
    }
   ],
   "source": [
    "for item in tqdm(pages_and_text):\n",
    "\n",
    "    # Split the sentences into chunks\n",
    "    item[\"sentence_chunks\"] = split_list(item[\"sentences\"], slice_size=num_sentence_chunk_size)\n",
    "\n",
    "    # Count the number of chunks\n",
    "    item[\"num_chunks\"] = len(item[\"sentence_chunks\"])"
   ]
  },
  {
   "cell_type": "code",
   "execution_count": 33,
   "metadata": {},
   "outputs": [
    {
     "data": {
      "text/plain": [
       "[{'page_number': 886,\n",
       "  'page_char_count': 1346,\n",
       "  'page_word_count': 212,\n",
       "  'page_sentence_count_raw': 11,\n",
       "  'page_token_count': 336.5,\n",
       "  'text': 'who regularly participate in sports or exercise need to eat a greater  number of calories to account for increased energy expenditures.  For carbohydrates, the AMDR is 45 to 65 percent of daily calories  (which is a recommended daily allowance of 158–228 grams for  1,400–1,600 daily calories). Carbohydrates that are high in fiber  should make up the bulk of intake. The AMDR for protein is 10 to 30  percent of daily calories (35–105 grams for 1,400 daily calories for  girls and 40–120 grams for 1,600 daily calories for boys). The AMDR  for fat is 25 to 35 percent of daily calories (39–54 grams for 1,400  daily calories for girls and 44–62 grams for 1,600 daily calories for  boys), depending on caloric intake and activity level.  Micronutrients  Key vitamins needed during puberty include vitamins D, K, and  B12. Adequate calcium intake is essential for building bone and  preventing osteoporosis later in life. Young females need more iron  at the onset of menstruation, while young males need additional  iron for the development of lean body mass. Almost all of these  needs should be met with dietary choices, not supplements (iron  is an exception). Table 14.2 “Micronutrient Levels during Puberty”  shows the micronutrient recommendations for young adolescents.  Table 14.2  Micronutrient Levels during Puberty  886  |  Adolescence',\n",
       "  'sentences': ['who regularly participate in sports or exercise need to eat a greater  number of calories to account for increased energy expenditures.',\n",
       "   ' For carbohydrates, the AMDR is 45 to 65 percent of daily calories  (which is a recommended daily allowance of 158–228 grams for  1,400–1,600 daily calories).',\n",
       "   'Carbohydrates that are high in fiber  should make up the bulk of intake.',\n",
       "   'The AMDR for protein is 10 to 30  percent of daily calories (35–105 grams for 1,400 daily calories for  girls and 40–120 grams for 1,600 daily calories for boys).',\n",
       "   'The AMDR  for fat is 25 to 35 percent of daily calories (39–54 grams for 1,400  daily calories for girls and 44–62 grams for 1,600 daily calories for  boys), depending on caloric intake and activity level.',\n",
       "   ' Micronutrients  Key vitamins needed during puberty include vitamins D, K, and  B12.',\n",
       "   'Adequate calcium intake is essential for building bone and  preventing osteoporosis later in life.',\n",
       "   'Young females need more iron  at the onset of menstruation, while young males need additional  iron for the development of lean body mass.',\n",
       "   'Almost all of these  needs should be met with dietary choices, not supplements (iron  is an exception).',\n",
       "   'Table 14.2 “Micronutrient Levels during Puberty”  shows the micronutrient recommendations for young adolescents.',\n",
       "   ' Table 14.2  Micronutrient Levels during Puberty  886  |  Adolescence'],\n",
       "  'page_sentence_count_spacy': 11,\n",
       "  'sentence_chunks': [['who regularly participate in sports or exercise need to eat a greater  number of calories to account for increased energy expenditures.',\n",
       "    ' For carbohydrates, the AMDR is 45 to 65 percent of daily calories  (which is a recommended daily allowance of 158–228 grams for  1,400–1,600 daily calories).',\n",
       "    'Carbohydrates that are high in fiber  should make up the bulk of intake.',\n",
       "    'The AMDR for protein is 10 to 30  percent of daily calories (35–105 grams for 1,400 daily calories for  girls and 40–120 grams for 1,600 daily calories for boys).',\n",
       "    'The AMDR  for fat is 25 to 35 percent of daily calories (39–54 grams for 1,400  daily calories for girls and 44–62 grams for 1,600 daily calories for  boys), depending on caloric intake and activity level.',\n",
       "    ' Micronutrients  Key vitamins needed during puberty include vitamins D, K, and  B12.',\n",
       "    'Adequate calcium intake is essential for building bone and  preventing osteoporosis later in life.',\n",
       "    'Young females need more iron  at the onset of menstruation, while young males need additional  iron for the development of lean body mass.',\n",
       "    'Almost all of these  needs should be met with dietary choices, not supplements (iron  is an exception).',\n",
       "    'Table 14.2 “Micronutrient Levels during Puberty”  shows the micronutrient recommendations for young adolescents.'],\n",
       "   [' Table 14.2  Micronutrient Levels during Puberty  886  |  Adolescence']],\n",
       "  'num_chunks': 2}]"
      ]
     },
     "execution_count": 33,
     "metadata": {},
     "output_type": "execute_result"
    }
   ],
   "source": [
    "random.sample(pages_and_text, k=1)"
   ]
  },
  {
   "cell_type": "code",
   "execution_count": 34,
   "metadata": {},
   "outputs": [
    {
     "data": {
      "text/html": [
       "<div>\n",
       "<style scoped>\n",
       "    .dataframe tbody tr th:only-of-type {\n",
       "        vertical-align: middle;\n",
       "    }\n",
       "\n",
       "    .dataframe tbody tr th {\n",
       "        vertical-align: top;\n",
       "    }\n",
       "\n",
       "    .dataframe thead th {\n",
       "        text-align: right;\n",
       "    }\n",
       "</style>\n",
       "<table border=\"1\" class=\"dataframe\">\n",
       "  <thead>\n",
       "    <tr style=\"text-align: right;\">\n",
       "      <th></th>\n",
       "      <th>page_number</th>\n",
       "      <th>page_char_count</th>\n",
       "      <th>page_word_count</th>\n",
       "      <th>page_sentence_count_raw</th>\n",
       "      <th>page_token_count</th>\n",
       "      <th>page_sentence_count_spacy</th>\n",
       "      <th>num_chunks</th>\n",
       "    </tr>\n",
       "  </thead>\n",
       "  <tbody>\n",
       "    <tr>\n",
       "      <th>count</th>\n",
       "      <td>1208.00000</td>\n",
       "      <td>1208.000000</td>\n",
       "      <td>1208.000000</td>\n",
       "      <td>1208.000000</td>\n",
       "      <td>1208.000000</td>\n",
       "      <td>1208.000000</td>\n",
       "      <td>1208.000000</td>\n",
       "    </tr>\n",
       "    <tr>\n",
       "      <th>mean</th>\n",
       "      <td>562.50000</td>\n",
       "      <td>1148.004139</td>\n",
       "      <td>171.966060</td>\n",
       "      <td>10.519868</td>\n",
       "      <td>287.001035</td>\n",
       "      <td>10.319536</td>\n",
       "      <td>1.525662</td>\n",
       "    </tr>\n",
       "    <tr>\n",
       "      <th>std</th>\n",
       "      <td>348.86387</td>\n",
       "      <td>560.382275</td>\n",
       "      <td>86.491465</td>\n",
       "      <td>6.548495</td>\n",
       "      <td>140.095569</td>\n",
       "      <td>6.300843</td>\n",
       "      <td>0.644397</td>\n",
       "    </tr>\n",
       "    <tr>\n",
       "      <th>min</th>\n",
       "      <td>-41.00000</td>\n",
       "      <td>0.000000</td>\n",
       "      <td>0.000000</td>\n",
       "      <td>1.000000</td>\n",
       "      <td>0.000000</td>\n",
       "      <td>0.000000</td>\n",
       "      <td>0.000000</td>\n",
       "    </tr>\n",
       "    <tr>\n",
       "      <th>25%</th>\n",
       "      <td>260.75000</td>\n",
       "      <td>762.000000</td>\n",
       "      <td>109.000000</td>\n",
       "      <td>5.000000</td>\n",
       "      <td>190.500000</td>\n",
       "      <td>5.000000</td>\n",
       "      <td>1.000000</td>\n",
       "    </tr>\n",
       "    <tr>\n",
       "      <th>50%</th>\n",
       "      <td>562.50000</td>\n",
       "      <td>1231.500000</td>\n",
       "      <td>183.000000</td>\n",
       "      <td>10.000000</td>\n",
       "      <td>307.875000</td>\n",
       "      <td>10.000000</td>\n",
       "      <td>1.000000</td>\n",
       "    </tr>\n",
       "    <tr>\n",
       "      <th>75%</th>\n",
       "      <td>864.25000</td>\n",
       "      <td>1603.500000</td>\n",
       "      <td>239.000000</td>\n",
       "      <td>15.000000</td>\n",
       "      <td>400.875000</td>\n",
       "      <td>15.000000</td>\n",
       "      <td>2.000000</td>\n",
       "    </tr>\n",
       "    <tr>\n",
       "      <th>max</th>\n",
       "      <td>1166.00000</td>\n",
       "      <td>2308.000000</td>\n",
       "      <td>393.000000</td>\n",
       "      <td>39.000000</td>\n",
       "      <td>577.000000</td>\n",
       "      <td>28.000000</td>\n",
       "      <td>3.000000</td>\n",
       "    </tr>\n",
       "  </tbody>\n",
       "</table>\n",
       "</div>"
      ],
      "text/plain": [
       "       page_number  page_char_count  page_word_count  page_sentence_count_raw  \\\n",
       "count   1208.00000      1208.000000      1208.000000              1208.000000   \n",
       "mean     562.50000      1148.004139       171.966060                10.519868   \n",
       "std      348.86387       560.382275        86.491465                 6.548495   \n",
       "min      -41.00000         0.000000         0.000000                 1.000000   \n",
       "25%      260.75000       762.000000       109.000000                 5.000000   \n",
       "50%      562.50000      1231.500000       183.000000                10.000000   \n",
       "75%      864.25000      1603.500000       239.000000                15.000000   \n",
       "max     1166.00000      2308.000000       393.000000                39.000000   \n",
       "\n",
       "       page_token_count  page_sentence_count_spacy   num_chunks  \n",
       "count       1208.000000                1208.000000  1208.000000  \n",
       "mean         287.001035                  10.319536     1.525662  \n",
       "std          140.095569                   6.300843     0.644397  \n",
       "min            0.000000                   0.000000     0.000000  \n",
       "25%          190.500000                   5.000000     1.000000  \n",
       "50%          307.875000                  10.000000     1.000000  \n",
       "75%          400.875000                  15.000000     2.000000  \n",
       "max          577.000000                  28.000000     3.000000  "
      ]
     },
     "execution_count": 34,
     "metadata": {},
     "output_type": "execute_result"
    }
   ],
   "source": [
    "df = pd.DataFrame(pages_and_text)\n",
    "df.describe()"
   ]
  },
  {
   "cell_type": "code",
   "execution_count": 35,
   "metadata": {},
   "outputs": [],
   "source": [
    "import re"
   ]
  },
  {
   "cell_type": "code",
   "execution_count": 42,
   "metadata": {},
   "outputs": [
    {
     "name": "stderr",
     "output_type": "stream",
     "text": [
      "100%|██████████| 1208/1208 [00:00<00:00, 54736.29it/s]\n"
     ]
    }
   ],
   "source": [
    "# Create a new list of dictionaries each containing a single chunk of sentences with relative information\n",
    "\n",
    "pages_and_chunks = []\n",
    "# For each page\n",
    "for item in tqdm(pages_and_text):\n",
    "    # For each sentence chunk\n",
    "    for sentence_chunk in item[\"sentence_chunks\"]:\n",
    "        chunk_dict= {}\n",
    "        # Add the page number\n",
    "        chunk_dict[\"page_number\"] = item[\"page_number\"]\n",
    "        # concatenate the elements of the sentence_chunk list into a single string separated by spaces and then remove any leading/trailing whitespace from the resulting string\n",
    "        joined_sentence_chunk = \" \".join(sentence_chunk).replace(\" \", \" \").strip()\n",
    "        # If there is .(capital letter) then add space after the full stop and then the capital letter\n",
    "        joined_sentence_chunk = re.sub(r'\\.([A-Z])', r'. \\1', joined_sentence_chunk)\n",
    "        chunk_dict[\"sentence_chunk\"] = joined_sentence_chunk\n",
    "        chunk_dict[\"chunk_char_count\"] = len(joined_sentence_chunk)\n",
    "        chunk_dict[\"chunk_word_count\"] = len(joined_sentence_chunk.split(\" \"))\n",
    "        chunk_dict[\"chunk_token_count\"] = len(joined_sentence_chunk)/4\n",
    "\n",
    "        pages_and_chunks.append(chunk_dict)"
   ]
  },
  {
   "cell_type": "code",
   "execution_count": 43,
   "metadata": {},
   "outputs": [
    {
     "data": {
      "text/plain": [
       "1843"
      ]
     },
     "execution_count": 43,
     "metadata": {},
     "output_type": "execute_result"
    }
   ],
   "source": [
    "len(pages_and_chunks)"
   ]
  },
  {
   "cell_type": "code",
   "execution_count": 46,
   "metadata": {},
   "outputs": [
    {
     "data": {
      "text/plain": [
       "[{'page_number': 913,\n",
       "  'sentence_chunk': 'Middle Age  UNIVERSITY OF HAWAI‘I AT MĀNOA FOOD SCIENCE AND HUMAN  NUTRITION PROGRAM AND HUMAN NUTRITION PROGRAM  Middle age is defined as the period from age thirty-one to fifty. The  early period of this stage is very different from the end. For example,  during the early years of middle age, many women experience  pregnancy, childbirth, and lactation. In the latter part of this life  stage, women face perimenopause, which is a transition period that  leads up to menopause, or the end of menstruation. A number of  physical changes take place in the middle-aged years, including the  loss of bone mass in women due to dropping levels of estrogen  during menopause. In both men and women, visual acuity declines,  and by age forty there can be a decreased ability to see objects  at a close distance, a condition known as presbyopia.1 All of these  are signs of aging, as the human body begins to change in subtle  and not-so-subtle ways. However, a middle aged person can remain  vital, healthy, and near his or her physical peak with proper diet and  adequate exercise.  During this stage of the human life cycle, adults begin to  experience the first outward signs of aging. Wrinkles begin to  appear, joints ache after a highly active day, and body fat  accumulates. There is also a loss of muscle tone and elasticity in  the connective tissue.2 Many people in their late thirties and in  1.',\n",
       "  'chunk_char_count': 1401,\n",
       "  'chunk_word_count': 260,\n",
       "  'chunk_token_count': 350.25}]"
      ]
     },
     "execution_count": 46,
     "metadata": {},
     "output_type": "execute_result"
    }
   ],
   "source": [
    "random.sample(pages_and_chunks, k=1)"
   ]
  },
  {
   "cell_type": "code",
   "execution_count": 47,
   "metadata": {},
   "outputs": [
    {
     "data": {
      "text/html": [
       "<div>\n",
       "<style scoped>\n",
       "    .dataframe tbody tr th:only-of-type {\n",
       "        vertical-align: middle;\n",
       "    }\n",
       "\n",
       "    .dataframe tbody tr th {\n",
       "        vertical-align: top;\n",
       "    }\n",
       "\n",
       "    .dataframe thead th {\n",
       "        text-align: right;\n",
       "    }\n",
       "</style>\n",
       "<table border=\"1\" class=\"dataframe\">\n",
       "  <thead>\n",
       "    <tr style=\"text-align: right;\">\n",
       "      <th></th>\n",
       "      <th>page_number</th>\n",
       "      <th>chunk_char_count</th>\n",
       "      <th>chunk_word_count</th>\n",
       "      <th>chunk_token_count</th>\n",
       "    </tr>\n",
       "  </thead>\n",
       "  <tbody>\n",
       "    <tr>\n",
       "      <th>count</th>\n",
       "      <td>1843.000000</td>\n",
       "      <td>1843.000000</td>\n",
       "      <td>1843.000000</td>\n",
       "      <td>1843.000000</td>\n",
       "    </tr>\n",
       "    <tr>\n",
       "      <th>mean</th>\n",
       "      <td>583.381443</td>\n",
       "      <td>752.144330</td>\n",
       "      <td>130.788388</td>\n",
       "      <td>188.036082</td>\n",
       "    </tr>\n",
       "    <tr>\n",
       "      <th>std</th>\n",
       "      <td>347.788670</td>\n",
       "      <td>456.235348</td>\n",
       "      <td>80.556195</td>\n",
       "      <td>114.058837</td>\n",
       "    </tr>\n",
       "    <tr>\n",
       "      <th>min</th>\n",
       "      <td>-41.000000</td>\n",
       "      <td>14.000000</td>\n",
       "      <td>4.000000</td>\n",
       "      <td>3.500000</td>\n",
       "    </tr>\n",
       "    <tr>\n",
       "      <th>25%</th>\n",
       "      <td>280.500000</td>\n",
       "      <td>322.500000</td>\n",
       "      <td>54.000000</td>\n",
       "      <td>80.625000</td>\n",
       "    </tr>\n",
       "    <tr>\n",
       "      <th>50%</th>\n",
       "      <td>586.000000</td>\n",
       "      <td>765.000000</td>\n",
       "      <td>134.000000</td>\n",
       "      <td>191.250000</td>\n",
       "    </tr>\n",
       "    <tr>\n",
       "      <th>75%</th>\n",
       "      <td>890.000000</td>\n",
       "      <td>1139.500000</td>\n",
       "      <td>198.000000</td>\n",
       "      <td>284.875000</td>\n",
       "    </tr>\n",
       "    <tr>\n",
       "      <th>max</th>\n",
       "      <td>1166.000000</td>\n",
       "      <td>1871.000000</td>\n",
       "      <td>416.000000</td>\n",
       "      <td>467.750000</td>\n",
       "    </tr>\n",
       "  </tbody>\n",
       "</table>\n",
       "</div>"
      ],
      "text/plain": [
       "       page_number  chunk_char_count  chunk_word_count  chunk_token_count\n",
       "count  1843.000000       1843.000000       1843.000000        1843.000000\n",
       "mean    583.381443        752.144330        130.788388         188.036082\n",
       "std     347.788670        456.235348         80.556195         114.058837\n",
       "min     -41.000000         14.000000          4.000000           3.500000\n",
       "25%     280.500000        322.500000         54.000000          80.625000\n",
       "50%     586.000000        765.000000        134.000000         191.250000\n",
       "75%     890.000000       1139.500000        198.000000         284.875000\n",
       "max    1166.000000       1871.000000        416.000000         467.750000"
      ]
     },
     "execution_count": 47,
     "metadata": {},
     "output_type": "execute_result"
    }
   ],
   "source": [
    "df = pd.DataFrame(pages_and_chunks)\n",
    "df.describe()"
   ]
  },
  {
   "cell_type": "code",
   "execution_count": 48,
   "metadata": {},
   "outputs": [
    {
     "name": "stdout",
     "output_type": "stream",
     "text": [
      "Chunk token count: 11.0 | Text: 442  |  Health Consequences of Alcohol Abuse\n",
      "Chunk token count: 25.75 | Text: http://www.ajcn.org/content/87/1/64.long. Accessed  September 22, 2017.  554  |  Water-Soluble Vitamins\n",
      "Chunk token count: 4.0 | Text: 190  |  Chloride\n",
      "Chunk token count: 13.75 | Text: Accessed October 5, 2017.  540  |  Fat-Soluble Vitamins\n",
      "Chunk token count: 10.25 | Text: Older Adulthood: The Golden Years  |  925\n"
     ]
    }
   ],
   "source": [
    "# For text with small number of tokens, we will remove them because they wont contain much useful information but take extra compute\n",
    "min_token_length = 30\n",
    "\n",
    "for row in df[df[\"chunk_token_count\"] <= min_token_length].sample(5).iterrows():\n",
    "    print(f'Chunk token count: {row[1][\"chunk_token_count\"]} | Text: {row[1][\"sentence_chunk\"]}')"
   ]
  },
  {
   "cell_type": "code",
   "execution_count": 49,
   "metadata": {},
   "outputs": [
    {
     "data": {
      "text/plain": [
       "[{'page_number': -39,\n",
       "  'sentence_chunk': 'Human Nutrition: 2020  Edition  UNIVERSITY OF HAWAI‘I AT MĀNOA  FOOD SCIENCE AND HUMAN  NUTRITION PROGRAM  ALAN TITCHENAL, SKYLAR HARA,  NOEMI ARCEO CAACBAY, WILLIAM  MEINKE-LAU, YA-YUN YANG, MARIE  KAINOA FIALKOWSKI REVILLA,  JENNIFER DRAPER, GEMADY  LANGFELDER, CHERYL GIBBY, CHYNA  NICOLE CHUN, AND ALLISON  CALABRESE',\n",
       "  'chunk_char_count': 320,\n",
       "  'chunk_word_count': 54,\n",
       "  'chunk_token_count': 80.0},\n",
       " {'page_number': -38,\n",
       "  'sentence_chunk': 'Human Nutrition: 2020 Edition by University of Hawai‘i at Mānoa Food Science and  Human Nutrition Program is licensed under a Creative Commons Attribution 4.0  International License, except where otherwise noted.',\n",
       "  'chunk_char_count': 212,\n",
       "  'chunk_word_count': 32,\n",
       "  'chunk_token_count': 53.0}]"
      ]
     },
     "execution_count": 49,
     "metadata": {},
     "output_type": "execute_result"
    }
   ],
   "source": [
    "# Filter rows under min token length\n",
    "pages_and_chunks_over_min_token_len = df[df[\"chunk_token_count\"] > min_token_length].to_dict(orient=\"records\")\n",
    "pages_and_chunks_over_min_token_len[:2]"
   ]
  },
  {
   "cell_type": "code",
   "execution_count": 57,
   "metadata": {},
   "outputs": [
    {
     "data": {
      "text/plain": [
       "[{'page_number': 368,\n",
       "  'sentence_chunk': 'reactions that can be summarized into three basic steps:  transcription, translation, and protein folding. The first step in  constructing a protein is the transcription (copying) of the genetic  information in double-stranded deoxyribonucleic acid (DNA) into  the single-stranded, messenger macromolecule ribonucleic acid  (RNA). RNA is chemically similar to DNA, but has two differences;  one is that its backbone uses the sugar ribose and not deoxyribose;  and two, it contains the nucleotide base uracil, and not thymidine.  The RNA that is transcribed from a given piece of DNA contains the  same information as that DNA, but it is now in a form that can be  read by the cellular protein manufacturer known as the ribosome.  Next, the RNA instructs the cells to gather all the necessary amino  acids and add them to the growing protein chain in a very specific  order. This process is referred to as translation. The decoding of  genetic information to synthesize a protein is the central foundation  of modern biology.  Figure 6.4 Steps for Building a Protein  368  |  Defining Protein',\n",
       "  'chunk_char_count': 1091,\n",
       "  'chunk_word_count': 192,\n",
       "  'chunk_token_count': 272.75}]"
      ]
     },
     "execution_count": 57,
     "metadata": {},
     "output_type": "execute_result"
    }
   ],
   "source": [
    "random.sample(pages_and_chunks_over_min_token_len, k =1)"
   ]
  },
  {
   "cell_type": "code",
   "execution_count": null,
   "metadata": {},
   "outputs": [],
   "source": []
  }
 ],
 "metadata": {
  "kernelspec": {
   "display_name": "venv",
   "language": "python",
   "name": "python3"
  },
  "language_info": {
   "codemirror_mode": {
    "name": "ipython",
    "version": 3
   },
   "file_extension": ".py",
   "mimetype": "text/x-python",
   "name": "python",
   "nbconvert_exporter": "python",
   "pygments_lexer": "ipython3",
   "version": "3.10.12"
  }
 },
 "nbformat": 4,
 "nbformat_minor": 2
}
